{
 "cells": [
  {
   "cell_type": "code",
   "execution_count": 51,
   "metadata": {},
   "outputs": [],
   "source": [
    "import pandas as pd\n",
    "\n",
    "# Load the dataset\n",
    "df = pd.read_csv('/workspaces/naive-bayes-project-tutorial-omass/playstore_reviews.csv')\n",
    "\n",
    "# Drop the package_name column\n",
    "df.drop('package_name', axis=1, inplace=True)\n",
    "\n",
    "# Converting text to lowercase and removing leading/trailing spaces\n",
    "df['review'] = df['review'].str.strip().str.lower()\n"
   ]
  },
  {
   "cell_type": "code",
   "execution_count": 52,
   "metadata": {},
   "outputs": [],
   "source": [
    "from sklearn.model_selection import train_test_split\n",
    "from sklearn.feature_extraction.text import CountVectorizer\n",
    "\n",
    "# Splitting the dataset into training and testing sets\n",
    "X_train, X_test, y_train, y_test = train_test_split(df['review'], df['polarity'], test_size=0.2, random_state=42)\n",
    "\n",
    "# Transforming text into a word count matrix\n",
    "vec_model = CountVectorizer(stop_words=\"english\")\n",
    "X_train = vec_model.fit_transform(X_train).toarray()\n",
    "X_test = vec_model.transform(X_test).toarray()\n"
   ]
  },
  {
   "cell_type": "code",
   "execution_count": 53,
   "metadata": {},
   "outputs": [
    {
     "name": "stdout",
     "output_type": "stream",
     "text": [
      "Gaussian Naive Bayes Accuracy: 80.45%\n",
      "Multinomial Naive Bayes Accuracy: 82.68%\n",
      "Bernoulli Naive Bayes Accuracy: 80.45%\n"
     ]
    }
   ],
   "source": [
    "from sklearn.naive_bayes import GaussianNB, MultinomialNB, BernoulliNB\n",
    "from sklearn.metrics import accuracy_score\n",
    "\n",
    "# Gaussian Naive Bayes\n",
    "gnb_model = GaussianNB()\n",
    "gnb_model.fit(X_train, y_train)\n",
    "gnb_accuracy = accuracy_score(y_test, gnb_model.predict(X_test))\n",
    "\n",
    "# Printing the accuracy\n",
    "print(f\"Gaussian Naive Bayes Accuracy: {gnb_accuracy * 100:.2f}%\")\n",
    "\n",
    "# Multinomial Naive Bayes\n",
    "# Multinomial Naive Bayes model with hyperparameters\n",
    "mnb_model = MultinomialNB(alpha=0.5, fit_prior=True)\n",
    "mnb_model.fit(X_train, y_train)\n",
    "mnb_accuracy = accuracy_score(y_test, mnb_model.predict(X_test))\n",
    "\n",
    "# Printing the accuracy\n",
    "print(f\"Multinomial Naive Bayes Accuracy: {mnb_accuracy * 100:.2f}%\")\n",
    "\n",
    "# Bernoulli Naive Bayes\n",
    "# Bernoulli Naive Bayes model with hyperparameters\n",
    "bnb_model = BernoulliNB(alpha=0.5, binarize=0.0)\n",
    "bnb_model.fit(X_train, y_train)\n",
    "bnb_accuracy = accuracy_score(y_test, bnb_model.predict(X_test))\n",
    "\n",
    "# Printing the accuracy\n",
    "print(f\"Bernoulli Naive Bayes Accuracy: {bnb_accuracy * 100:.2f}%\")\n",
    "\n"
   ]
  },
  {
   "cell_type": "code",
   "execution_count": 54,
   "metadata": {},
   "outputs": [
    {
     "name": "stdout",
     "output_type": "stream",
     "text": [
      "Best Parameters for RandomForestClassifier: {'max_depth': None, 'n_estimators': 100}\n",
      "Random Forest Classifier Accuracy with Best Parameters: 79.89%\n"
     ]
    }
   ],
   "source": [
    "from sklearn.ensemble import RandomForestClassifier\n",
    "from sklearn.model_selection import GridSearchCV\n",
    "from sklearn.metrics import accuracy_score\n",
    "\n",
    "# Simplified hyperparameter grid\n",
    "param_grid_rf_simplified = {\n",
    "    'n_estimators': [100, 150],  # Reduced number of trees options\n",
    "    'max_depth': [10, None]      # Maximum depth of the tree, with None allowing full growth\n",
    "}\n",
    "\n",
    "# Creating a GridSearchCV object with the simplified grid\n",
    "grid_search_rf_simplified = GridSearchCV(RandomForestClassifier(random_state=42), \n",
    "                                         param_grid_rf_simplified, \n",
    "                                         cv=3, \n",
    "                                         scoring='accuracy')\n",
    "\n",
    "# Fitting the model to the data with the simplified grid\n",
    "grid_search_rf_simplified.fit(X_train, y_train)\n",
    "\n",
    "# Best parameters and best accuracy score\n",
    "best_params_rf_simplified = grid_search_rf_simplified.best_params_\n",
    "best_rf_model_simplified = grid_search_rf_simplified.best_estimator_\n",
    "rf_accuracy_simplified = accuracy_score(y_test, best_rf_model_simplified.predict(X_test))\n",
    "\n",
    "# Printing the best parameters and the accuracy\n",
    "print(\"Best Parameters for RandomForestClassifier:\", best_params_rf_simplified)\n",
    "print(f\"Random Forest Classifier Accuracy with Best Parameters: {rf_accuracy_simplified * 100:.2f}%\")\n",
    "\n"
   ]
  },
  {
   "cell_type": "code",
   "execution_count": 55,
   "metadata": {},
   "outputs": [
    {
     "name": "stdout",
     "output_type": "stream",
     "text": [
      "Decision Tree Classifier Accuracy: 71.51%\n"
     ]
    }
   ],
   "source": [
    "from sklearn.tree import DecisionTreeClassifier\n",
    "from sklearn.metrics import accuracy_score\n",
    "\n",
    "# Training a Decision Tree Classifier\n",
    "dt_model = DecisionTreeClassifier(random_state=42)\n",
    "dt_model.fit(X_train, y_train)\n",
    "dt_predictions = dt_model.predict(X_test)\n",
    "dt_accuracy = accuracy_score(y_test, dt_predictions)\n",
    "\n",
    "# Printing the accuracy\n",
    "print(f\"Decision Tree Classifier Accuracy: {dt_accuracy * 100:.2f}%\")\n"
   ]
  },
  {
   "cell_type": "code",
   "execution_count": 56,
   "metadata": {},
   "outputs": [
    {
     "name": "stdout",
     "output_type": "stream",
     "text": [
      "Support Vector Machine (SVM) Accuracy: 80.45%\n"
     ]
    }
   ],
   "source": [
    "from sklearn.svm import SVC\n",
    "\n",
    "# Training a Support Vector Machine (SVM)\n",
    "svm_model = SVC(random_state=42)\n",
    "svm_model.fit(X_train, y_train)\n",
    "svm_predictions = svm_model.predict(X_test)\n",
    "svm_accuracy = accuracy_score(y_test, svm_predictions)\n",
    "\n",
    "# Printing the accuracy\n",
    "print(f\"Support Vector Machine (SVM) Accuracy: {svm_accuracy * 100:.2f}%\")\n"
   ]
  },
  {
   "cell_type": "code",
   "execution_count": 57,
   "metadata": {},
   "outputs": [],
   "source": [
    "from sklearn.preprocessing import StandardScaler\n",
    "\n",
    "scaler = StandardScaler()\n",
    "X_train_scaled = scaler.fit_transform(X_train)  \n",
    "X_test_scaled = scaler.transform(X_test)        \n"
   ]
  },
  {
   "cell_type": "code",
   "execution_count": 58,
   "metadata": {},
   "outputs": [
    {
     "name": "stdout",
     "output_type": "stream",
     "text": [
      "XGBoost Best Params: {'learning_rate': 0.1, 'max_depth': 5, 'n_estimators': 200}\n",
      "XGBoost Accuracy: 0.7932960893854749\n"
     ]
    }
   ],
   "source": [
    "import xgboost as xgb\n",
    "from sklearn.model_selection import GridSearchCV\n",
    "from sklearn.metrics import accuracy_score\n",
    "\n",
    "# XGBoost model\n",
    "xgb_model = xgb.XGBClassifier(random_state=42)\n",
    "\n",
    "# Grid search for hyperparameter tuning\n",
    "param_grid_xgb = {\n",
    "    'n_estimators': [50, 100, 200],\n",
    "    'max_depth': [3, 5, 7],\n",
    "    'learning_rate': [0.01, 0.1, 0.2]\n",
    "}\n",
    "grid_search_xgb = GridSearchCV(xgb_model, param_grid_xgb, cv=5, scoring='accuracy')\n",
    "grid_search_xgb.fit(X_train_scaled, y_train)\n",
    "\n",
    "# Best model\n",
    "best_xgb_model = grid_search_xgb.best_estimator_\n",
    "y_pred_xgb = best_xgb_model.predict(X_test_scaled)\n",
    "\n",
    "# Best parameters\n",
    "best_params_xgb = grid_search_xgb.best_params_\n",
    "\n",
    "# Calculating accuracy\n",
    "accuracy_xgb = accuracy_score(y_test, y_pred_xgb)\n",
    "\n",
    "print(\"XGBoost Best Params:\", best_params_xgb)\n",
    "print(\"XGBoost Accuracy:\", accuracy_xgb)\n"
   ]
  },
  {
   "cell_type": "code",
   "execution_count": 59,
   "metadata": {},
   "outputs": [
    {
     "name": "stdout",
     "output_type": "stream",
     "text": [
      "Accuracy: 0.8379888268156425\n",
      "Precision: 0.75\n",
      "Recall: 0.6792452830188679\n",
      "F1 Score: 0.712871287128713\n",
      "ROC AUC: 0.8623839472896077\n"
     ]
    },
    {
     "data": {
      "image/png": "[encoded data removed]",
      "text/plain": [
       "<Figure size 640x480 with 1 Axes>"
      ]
     },
     "metadata": {},
     "output_type": "display_data"
    }
   ],
   "source": [
    "from sklearn.linear_model import LogisticRegression\n",
    "from sklearn.metrics import accuracy_score, precision_score, recall_score, f1_score, roc_curve, auc\n",
    "from sklearn.preprocessing import StandardScaler\n",
    "from sklearn.model_selection import train_test_split, GridSearchCV\n",
    "import matplotlib.pyplot as plt\n",
    "\n",
    "\n",
    "\n",
    "# Splitting the dataset into training and testing sets\n",
    "X_train, X_test, y_train, y_test = train_test_split(df['review'], df['polarity'], test_size=0.2, random_state=42)\n",
    "\n",
    "# Transforming text into a matrix of token counts\n",
    "vec_model = CountVectorizer(stop_words=\"english\")\n",
    "X_train_counts = vec_model.fit_transform(X_train)\n",
    "X_test_counts = vec_model.transform(X_test)\n",
    "\n",
    "# Standardizing the features\n",
    "scaler = StandardScaler(with_mean=False)  # with_mean=False to support sparse input\n",
    "X_train_scaled = scaler.fit_transform(X_train_counts)\n",
    "X_test_scaled = scaler.transform(X_test_counts)\n",
    "\n",
    "# Hyperparameter tuning using grid search\n",
    "param_grid_lr = {'C': [0.1, 1, 10], 'solver': ['liblinear', 'lbfgs']}\n",
    "grid_search_lr = GridSearchCV(LogisticRegression(random_state=42), param_grid_lr, cv=5, scoring='accuracy')\n",
    "grid_search_lr.fit(X_train_scaled, y_train)\n",
    "\n",
    "# Best model from grid search\n",
    "best_lr_model = grid_search_lr.best_estimator_\n",
    "\n",
    "# Predicting on the test set\n",
    "y_pred_lr = best_lr_model.predict(X_test_scaled)\n",
    "\n",
    "# Calculating evaluation metrics\n",
    "accuracy = accuracy_score(y_test, y_pred_lr)\n",
    "precision = precision_score(y_test, y_pred_lr)\n",
    "recall = recall_score(y_test, y_pred_lr)\n",
    "f1 = f1_score(y_test, y_pred_lr)\n",
    "\n",
    "# Calculating ROC curve and AUC\n",
    "fpr, tpr, thresholds = roc_curve(y_test, best_lr_model.predict_proba(X_test_scaled)[:, 1])\n",
    "roc_auc = auc(fpr, tpr)\n",
    "\n",
    "# Printing the metrics\n",
    "print(f\"Accuracy: {accuracy}\")\n",
    "print(f\"Precision: {precision}\")\n",
    "print(f\"Recall: {recall}\")\n",
    "print(f\"F1 Score: {f1}\")\n",
    "print(f\"ROC AUC: {roc_auc}\")\n",
    "\n",
    "# Plotting the ROC curve\n",
    "plt.figure()\n",
    "plt.plot(fpr, tpr, color='darkorange', lw=2, label='ROC curve (area = %0.2f)' % roc_auc)\n",
    "plt.plot([0, 1], [0, 1], color='navy', lw=2, linestyle='--')\n",
    "plt.xlim([0.0, 1.0])\n",
    "plt.ylim([0.0, 1.05])\n",
    "plt.xlabel('False Positive Rate')\n",
    "plt.ylabel('True Positive Rate')\n",
    "plt.title('Receiver Operating Characteristic')\n",
    "plt.legend(loc=\"lower right\")\n",
    "plt.show()\n",
    "\n"
   ]
  },
  {
   "cell_type": "code",
   "execution_count": 68,
   "metadata": {},
   "outputs": [],
   "source": [
    "import pickle\n",
    "from sklearn.tree import DecisionTreeClassifier\n",
    "from xgboost import XGBClassifier\n",
    "from sklearn.ensemble import RandomForestClassifier\n",
    "from sklearn.linear_model import LogisticRegression\n",
    "\n",
    "# Define a list of model names and their corresponding trained models\n",
    "models_to_save = [\n",
    "    (\"decision_tree_model\", dt_model),  \n",
    "    (\"random_forest_model\", best_params_rf_simplified),\n",
    "    (\"logistic_regression_model\", best_lr_model),\n",
    "    (\"support_vector_machine_model\", svm_model),\n",
    "    (\"gaussian_naive_bayes_model\", gnb_model),\n",
    "    (\"multinomial_naive_bayes_model\", mnb_model),\n",
    "    (\"bernoulli_naive_bayes_model\", bnb_model),\n",
    "    (\"xgboost_model\", best_xgb_model)  \n",
    "]\n",
    "\n",
    "# Loop through the list and save each model\n",
    "for model_name, model in models_to_save:\n",
    "    with open(f\"{model_name}.sav\", \"wb\") as model_file:\n",
    "        pickle.dump(model, model_file)\n",
    "\n",
    "\n"
   ]
  }
 ],
 "metadata": {
  "kernelspec": {
   "display_name": "Python 3",
   "language": "python",
   "name": "python3"
  },
  "language_info": {
   "codemirror_mode": {
    "name": "ipython",
    "version": 3
   },
   "file_extension": ".py",
   "mimetype": "text/x-python",
   "name": "python",
   "nbconvert_exporter": "python",
   "pygments_lexer": "ipython3",
   "version": "3.10.13"
  }
 },
 "nbformat": 4,
 "nbformat_minor": 2
}
